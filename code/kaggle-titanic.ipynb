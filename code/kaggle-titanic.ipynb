{
 "cells": [
  {
   "cell_type": "code",
   "execution_count": 11,
   "metadata": {
    "collapsed": false
   },
   "outputs": [],
   "source": [
    "import numpy as np\n",
    "import pandas as pd\n",
    "import matplotlib.pyplot as plt\n",
    "import json\n",
    "from sklearn.ensemble import RandomForestClassifier, RandomForestRegressor\n",
    "from sklearn.linear_model import LinearRegression\n",
    "from sklearn.ensemble import GradientBoostingClassifier\n",
    "from sklearn.ensemble import AdaBoostClassifier\n",
    "from sklearn.svm import SVC\n",
    "from sklearn.grid_search import GridSearchCV\n",
    "from sklearn.cross_validation import cross_val_score\n",
    "%matplotlib inline"
   ]
  },
  {
   "cell_type": "code",
   "execution_count": null,
   "metadata": {
    "collapsed": true
   },
   "outputs": [],
   "source": [
    "train = pd.read_csv(\"../data/train.csv\")\n",
    "test  = pd.read_csv(\"../data/test.csv\")"
   ]
  },
  {
   "cell_type": "code",
   "execution_count": 13,
   "metadata": {
    "collapsed": false
   },
   "outputs": [],
   "source": [
    "# train = pd.read_csv('s3a://aws-s3-data/kaggle/titanic/train.csv')\n",
    "# test  = pd.read_csv('s3a://aws-s3-data/kaggle/titanic/test.csv')"
   ]
  },
  {
   "cell_type": "markdown",
   "metadata": {},
   "source": [
    "## Exploratory Data Analysis"
   ]
  },
  {
   "cell_type": "code",
   "execution_count": 14,
   "metadata": {
    "collapsed": false
   },
   "outputs": [
    {
     "name": "stdout",
     "output_type": "stream",
     "text": [
      "<class 'pandas.core.frame.DataFrame'>\n",
      "Int64Index: 418 entries, 0 to 417\n",
      "Data columns (total 11 columns):\n",
      "PassengerId    418 non-null int64\n",
      "Pclass         418 non-null int64\n",
      "Name           418 non-null object\n",
      "Sex            418 non-null object\n",
      "Age            332 non-null float64\n",
      "SibSp          418 non-null int64\n",
      "Parch          418 non-null int64\n",
      "Ticket         418 non-null object\n",
      "Fare           417 non-null float64\n",
      "Cabin          91 non-null object\n",
      "Embarked       418 non-null object\n",
      "dtypes: float64(2), int64(4), object(5)\n",
      "memory usage: 39.2+ KB\n"
     ]
    }
   ],
   "source": [
    "test.info()"
   ]
  },
  {
   "cell_type": "code",
   "execution_count": 15,
   "metadata": {
    "collapsed": false
   },
   "outputs": [
    {
     "data": {
      "text/html": [
       "<div>\n",
       "<table border=\"1\" class=\"dataframe\">\n",
       "  <thead>\n",
       "    <tr style=\"text-align: right;\">\n",
       "      <th></th>\n",
       "      <th>PassengerId</th>\n",
       "      <th>Survived</th>\n",
       "      <th>Pclass</th>\n",
       "      <th>Age</th>\n",
       "      <th>SibSp</th>\n",
       "      <th>Parch</th>\n",
       "      <th>Fare</th>\n",
       "    </tr>\n",
       "  </thead>\n",
       "  <tbody>\n",
       "    <tr>\n",
       "      <th>count</th>\n",
       "      <td>891.000000</td>\n",
       "      <td>891.000000</td>\n",
       "      <td>891.000000</td>\n",
       "      <td>714.000000</td>\n",
       "      <td>891.000000</td>\n",
       "      <td>891.000000</td>\n",
       "      <td>891.000000</td>\n",
       "    </tr>\n",
       "    <tr>\n",
       "      <th>mean</th>\n",
       "      <td>446.000000</td>\n",
       "      <td>0.383838</td>\n",
       "      <td>2.308642</td>\n",
       "      <td>29.699118</td>\n",
       "      <td>0.523008</td>\n",
       "      <td>0.381594</td>\n",
       "      <td>32.204208</td>\n",
       "    </tr>\n",
       "    <tr>\n",
       "      <th>std</th>\n",
       "      <td>257.353842</td>\n",
       "      <td>0.486592</td>\n",
       "      <td>0.836071</td>\n",
       "      <td>14.526497</td>\n",
       "      <td>1.102743</td>\n",
       "      <td>0.806057</td>\n",
       "      <td>49.693429</td>\n",
       "    </tr>\n",
       "    <tr>\n",
       "      <th>min</th>\n",
       "      <td>1.000000</td>\n",
       "      <td>0.000000</td>\n",
       "      <td>1.000000</td>\n",
       "      <td>0.420000</td>\n",
       "      <td>0.000000</td>\n",
       "      <td>0.000000</td>\n",
       "      <td>0.000000</td>\n",
       "    </tr>\n",
       "    <tr>\n",
       "      <th>25%</th>\n",
       "      <td>223.500000</td>\n",
       "      <td>0.000000</td>\n",
       "      <td>2.000000</td>\n",
       "      <td>20.125000</td>\n",
       "      <td>0.000000</td>\n",
       "      <td>0.000000</td>\n",
       "      <td>7.910400</td>\n",
       "    </tr>\n",
       "    <tr>\n",
       "      <th>50%</th>\n",
       "      <td>446.000000</td>\n",
       "      <td>0.000000</td>\n",
       "      <td>3.000000</td>\n",
       "      <td>28.000000</td>\n",
       "      <td>0.000000</td>\n",
       "      <td>0.000000</td>\n",
       "      <td>14.454200</td>\n",
       "    </tr>\n",
       "    <tr>\n",
       "      <th>75%</th>\n",
       "      <td>668.500000</td>\n",
       "      <td>1.000000</td>\n",
       "      <td>3.000000</td>\n",
       "      <td>38.000000</td>\n",
       "      <td>1.000000</td>\n",
       "      <td>0.000000</td>\n",
       "      <td>31.000000</td>\n",
       "    </tr>\n",
       "    <tr>\n",
       "      <th>max</th>\n",
       "      <td>891.000000</td>\n",
       "      <td>1.000000</td>\n",
       "      <td>3.000000</td>\n",
       "      <td>80.000000</td>\n",
       "      <td>8.000000</td>\n",
       "      <td>6.000000</td>\n",
       "      <td>512.329200</td>\n",
       "    </tr>\n",
       "  </tbody>\n",
       "</table>\n",
       "</div>"
      ],
      "text/plain": [
       "       PassengerId    Survived      Pclass         Age       SibSp  \\\n",
       "count   891.000000  891.000000  891.000000  714.000000  891.000000   \n",
       "mean    446.000000    0.383838    2.308642   29.699118    0.523008   \n",
       "std     257.353842    0.486592    0.836071   14.526497    1.102743   \n",
       "min       1.000000    0.000000    1.000000    0.420000    0.000000   \n",
       "25%     223.500000    0.000000    2.000000   20.125000    0.000000   \n",
       "50%     446.000000    0.000000    3.000000   28.000000    0.000000   \n",
       "75%     668.500000    1.000000    3.000000   38.000000    1.000000   \n",
       "max     891.000000    1.000000    3.000000   80.000000    8.000000   \n",
       "\n",
       "            Parch        Fare  \n",
       "count  891.000000  891.000000  \n",
       "mean     0.381594   32.204208  \n",
       "std      0.806057   49.693429  \n",
       "min      0.000000    0.000000  \n",
       "25%      0.000000    7.910400  \n",
       "50%      0.000000   14.454200  \n",
       "75%      0.000000   31.000000  \n",
       "max      6.000000  512.329200  "
      ]
     },
     "execution_count": 15,
     "metadata": {},
     "output_type": "execute_result"
    }
   ],
   "source": [
    "train.describe()"
   ]
  },
  {
   "cell_type": "code",
   "execution_count": null,
   "metadata": {
    "collapsed": false
   },
   "outputs": [],
   "source": [
    "# train.Cabin.str.split().str.get(-1).str[0]\n",
    "# train.Cabin.str.split(expand=True)"
   ]
  },
  {
   "cell_type": "code",
   "execution_count": 16,
   "metadata": {
    "collapsed": false
   },
   "outputs": [
    {
     "data": {
      "text/plain": [
       "0         A/5\n",
       "1          PC\n",
       "2    STON/O2.\n",
       "3      113803\n",
       "4      373450\n",
       "dtype: object"
      ]
     },
     "execution_count": 16,
     "metadata": {},
     "output_type": "execute_result"
    }
   ],
   "source": [
    "# train.Ticket.str.split().str.get(0).str.extract\n",
    "train.Ticket.str.split()[0:].str[0].head()"
   ]
  },
  {
   "cell_type": "code",
   "execution_count": 20,
   "metadata": {
    "collapsed": false
   },
   "outputs": [
    {
     "name": "stdout",
     "output_type": "stream",
     "text": [
      "28.3436896552 30.6261792453 30.2725903614\n"
     ]
    }
   ],
   "source": [
    "print train[train['Survived']==1][\"Age\"].mean(),\n",
    "print train[train['Survived']==0][\"Age\"].mean(),\n",
    "print test.Age.mean()"
   ]
  },
  {
   "cell_type": "markdown",
   "metadata": {},
   "source": [
    "## Data Cleaning"
   ]
  },
  {
   "cell_type": "code",
   "execution_count": 21,
   "metadata": {
    "collapsed": false
   },
   "outputs": [],
   "source": [
    "def clean_data(titanic):\n",
    "\n",
    "    titanic = titanic.copy()\n",
    "    \n",
    "    titanic[\"Age\"] = titanic[\"Age\"].fillna(titanic[\"Age\"].median())\n",
    "    titanic[\"Fare\"] = titanic[\"Fare\"].fillna(titanic[\"Fare\"].median())\n",
    "    titanic['Cabin'] = titanic['Cabin'].str.split().str.get(-1).str[0]\n",
    "    titanic['Ticket'] = titanic.Ticket.str.split()[0:].str[0]\n",
    "    \n",
    "    titanic.loc[titanic[\"Sex\"] == \"male\", \"Sex\"] = -10\n",
    "    titanic.loc[titanic[\"Sex\"] == \"female\", \"Sex\"] = 10\n",
    "    \n",
    "    titanic[\"Embarked\"] = titanic[\"Embarked\"].fillna(\"S\")\n",
    "    \n",
    "    titanic['Title'] = titanic['Name'].apply(lambda x: x.split(',')[1].split()[0])\n",
    "\n",
    "#     d = {'Mr.':'Mr', 'Mrs.':'Mrs', 'Miss.':'Miss', 'Master.':'Master', 'Don.':'Mr', 'Rev.':'Mr', 'Dr.':'Dr', 'Mme.':'Mrs',\n",
    "#        'Ms.':'Miss', 'Major.':'Mr', 'Lady.':'Miss', 'Sir.':'Mr', 'Mlle.':'Miss', 'Col.':'Mr', 'Capt.':'Mr', 'the':'Mr',\n",
    "#        'Jonkheer.':'Mr', 'Dona.':'Mrs'}\n",
    "    \n",
    "    d = {'Mr.':28, 'Mrs.':80, 'Miss.':50, 'Master.':28, 'Don.':40, 'Rev.':60, 'Dr.':60, 'Mme.':80,\n",
    "       'Ms.':50, 'Major.':60, 'Lady.':70, 'Sir.':40, 'Mlle.':50, 'Col.':60, 'Capt.':60, 'the':28,\n",
    "       'Jonkheer.':28, 'Dona.':70}\n",
    "\n",
    "    titanic['Title'].replace(d, inplace =True)\n",
    "    \n",
    "    colnames = ['Embarked','Cabin','Ticket']\n",
    "    for colname in colnames:\n",
    "        titanic[colname] = pd.Categorical(titanic[colname]).codes\n",
    "\n",
    "#     # Grab all the features that can be included in a Random Forest Regressor\n",
    "#     age_titanic = titanic[['Age','Fare','Ticket','Pclass','Cabin','Title']]\n",
    "\n",
    "#     # Split into sets with known and unknown Age values\n",
    "#     knownAge = age_titanic.loc[ (titanic.Age.notnull()) ]\n",
    "#     unknownAge = age_titanic.loc[ (titanic.Age.isnull()) ]\n",
    "    \n",
    "#     # All age values are stored in a target array\n",
    "#     y = knownAge.pop('Age').values\n",
    "  \n",
    "#     # All the other values are stored in the feature array\n",
    "#     X = knownAge.values\n",
    "    \n",
    "#     # Create and fit a model\n",
    "#     rtr = RandomForestRegressor(20)\n",
    "#     rtr.fit(X, y)\n",
    "    \n",
    "#     # Use the fitted model to predict the missing values\n",
    "#     predictedAges = rtr.predict(unknownAge.values[:, 1::])\n",
    "    \n",
    "#     # Assign those predictions to the full data set\n",
    "#     titanic.loc[ (titanic.Age.isnull()), 'Age' ] = predictedAges \n",
    "    \n",
    "    \n",
    "    # StandardScaler will subtract the mean from each value then scale to the unit variance\n",
    "#     scaler = StandardScaler()\n",
    "#     titanic['Age_scaled'] = scaler.fit_transform(titanic['Age'])\n",
    "#     titanic['Fare_scaled'] = scaler.fit_transform(titanic['Fare'])\n",
    "    \n",
    "    titanic.Age = titanic.Age/titanic.Age.max()\n",
    "    titanic.Fare = titanic.Fare/titanic.Fare.max()\n",
    "\n",
    "    titanic['AgeSex'] = titanic.Age * titanic.Sex\n",
    "    titanic['AgeSexFare'] = titanic.Age * titanic.Sex * titanic.Fare\n",
    "#     titanic['TitlePclass'] = titanic.Title * titanic.Pclass\n",
    "#     titanic['CabinPclass'] = titanic.Cabin * titanic.Pclass\n",
    "#     titanic['PclassSq'] = titanic.Pclass ** 2\n",
    "#     titanic['SexFare'] = titanic.Sex * titanic.Fare\n",
    "#     titanic[\"FamilySize\"] = titanic['Parch'] + titanic['SibSp']\n",
    "\n",
    "\n",
    "#     titanic.loc[(titanic[\"Sex\"] == \"female\") , \"Age\"] = \\\n",
    "#         titanic.loc[(titanic[\"Sex\"] == \"female\") , \"Age\"].fillna(28.34)\n",
    "#     titanic.loc[(titanic[\"Sex\"] == \"male\") , \"Age\"] = \\\n",
    "#         titanic.loc[(titanic[\"Sex\"] == \"male\") , \"Age\"].fillna(30.62)\n",
    "#         (titanic[titanic['Survived']==0][\"Age\"].mean())    \n",
    "    \n",
    "#     titanic.loc[titanic[\"Embarked\"] == \"S\", \"Embarked\"] = 1\n",
    "#     titanic.loc[titanic[\"Embarked\"] == \"C\", \"Embarked\"] = 2\n",
    "#     titanic.loc[titanic[\"Embarked\"] == \"Q\", \"Embarked\"] = 3\n",
    "    \n",
    "    titanic.drop(titanic[['Name', \n",
    "#                           'Ticket', \n",
    "#                           'Cabin',\n",
    "#                           'Age',\n",
    "#                           'Sex',\n",
    "#                           'Fare',\n",
    "                          'SibSp',\n",
    "                          'Parch',\n",
    "#                           'Title',\n",
    "#                           'Pclass',\n",
    "                         ]], axis = 1, inplace=True)\n",
    "    \n",
    "    return titanic"
   ]
  },
  {
   "cell_type": "code",
   "execution_count": 24,
   "metadata": {
    "collapsed": false
   },
   "outputs": [],
   "source": [
    "df = clean_data(train)\n",
    "df_train = df.copy()\n",
    "df_train.drop('PassengerId', axis=1, inplace=True)\n",
    "df_test  = clean_data(test)"
   ]
  },
  {
   "cell_type": "code",
   "execution_count": 28,
   "metadata": {
    "collapsed": false
   },
   "outputs": [
    {
     "data": {
      "text/html": [
       "<div>\n",
       "<table border=\"1\" class=\"dataframe\">\n",
       "  <thead>\n",
       "    <tr style=\"text-align: right;\">\n",
       "      <th></th>\n",
       "      <th>count</th>\n",
       "      <th>mean</th>\n",
       "      <th>std</th>\n",
       "      <th>min</th>\n",
       "      <th>25%</th>\n",
       "      <th>50%</th>\n",
       "      <th>75%</th>\n",
       "      <th>max</th>\n",
       "    </tr>\n",
       "  </thead>\n",
       "  <tbody>\n",
       "    <tr>\n",
       "      <th>PassengerId</th>\n",
       "      <td>891</td>\n",
       "      <td>446.000000</td>\n",
       "      <td>257.353842</td>\n",
       "      <td>1.00000</td>\n",
       "      <td>223.50000</td>\n",
       "      <td>446.000000</td>\n",
       "      <td>668.500000</td>\n",
       "      <td>891</td>\n",
       "    </tr>\n",
       "    <tr>\n",
       "      <th>Survived</th>\n",
       "      <td>891</td>\n",
       "      <td>0.383838</td>\n",
       "      <td>0.486592</td>\n",
       "      <td>0.00000</td>\n",
       "      <td>0.00000</td>\n",
       "      <td>0.000000</td>\n",
       "      <td>1.000000</td>\n",
       "      <td>1</td>\n",
       "    </tr>\n",
       "    <tr>\n",
       "      <th>Pclass</th>\n",
       "      <td>891</td>\n",
       "      <td>2.308642</td>\n",
       "      <td>0.836071</td>\n",
       "      <td>1.00000</td>\n",
       "      <td>2.00000</td>\n",
       "      <td>3.000000</td>\n",
       "      <td>3.000000</td>\n",
       "      <td>3</td>\n",
       "    </tr>\n",
       "    <tr>\n",
       "      <th>Age</th>\n",
       "      <td>891</td>\n",
       "      <td>0.367020</td>\n",
       "      <td>0.162746</td>\n",
       "      <td>0.00525</td>\n",
       "      <td>0.27500</td>\n",
       "      <td>0.350000</td>\n",
       "      <td>0.437500</td>\n",
       "      <td>1</td>\n",
       "    </tr>\n",
       "    <tr>\n",
       "      <th>Ticket</th>\n",
       "      <td>891</td>\n",
       "      <td>322.291807</td>\n",
       "      <td>179.517825</td>\n",
       "      <td>0.00000</td>\n",
       "      <td>158.50000</td>\n",
       "      <td>337.000000</td>\n",
       "      <td>516.500000</td>\n",
       "      <td>556</td>\n",
       "    </tr>\n",
       "    <tr>\n",
       "      <th>Fare</th>\n",
       "      <td>891</td>\n",
       "      <td>0.062858</td>\n",
       "      <td>0.096995</td>\n",
       "      <td>0.00000</td>\n",
       "      <td>0.01544</td>\n",
       "      <td>0.028213</td>\n",
       "      <td>0.060508</td>\n",
       "      <td>1</td>\n",
       "    </tr>\n",
       "    <tr>\n",
       "      <th>Cabin</th>\n",
       "      <td>891</td>\n",
       "      <td>-0.221100</td>\n",
       "      <td>1.599664</td>\n",
       "      <td>-1.00000</td>\n",
       "      <td>-1.00000</td>\n",
       "      <td>-1.000000</td>\n",
       "      <td>-1.000000</td>\n",
       "      <td>7</td>\n",
       "    </tr>\n",
       "    <tr>\n",
       "      <th>Embarked</th>\n",
       "      <td>891</td>\n",
       "      <td>1.536476</td>\n",
       "      <td>0.791503</td>\n",
       "      <td>0.00000</td>\n",
       "      <td>1.00000</td>\n",
       "      <td>2.000000</td>\n",
       "      <td>2.000000</td>\n",
       "      <td>2</td>\n",
       "    </tr>\n",
       "    <tr>\n",
       "      <th>Title</th>\n",
       "      <td>891</td>\n",
       "      <td>40.641975</td>\n",
       "      <td>18.612814</td>\n",
       "      <td>28.00000</td>\n",
       "      <td>28.00000</td>\n",
       "      <td>28.000000</td>\n",
       "      <td>50.000000</td>\n",
       "      <td>80</td>\n",
       "    </tr>\n",
       "  </tbody>\n",
       "</table>\n",
       "</div>"
      ],
      "text/plain": [
       "             count        mean         std       min        25%         50%  \\\n",
       "PassengerId    891  446.000000  257.353842   1.00000  223.50000  446.000000   \n",
       "Survived       891    0.383838    0.486592   0.00000    0.00000    0.000000   \n",
       "Pclass         891    2.308642    0.836071   1.00000    2.00000    3.000000   \n",
       "Age            891    0.367020    0.162746   0.00525    0.27500    0.350000   \n",
       "Ticket         891  322.291807  179.517825   0.00000  158.50000  337.000000   \n",
       "Fare           891    0.062858    0.096995   0.00000    0.01544    0.028213   \n",
       "Cabin          891   -0.221100    1.599664  -1.00000   -1.00000   -1.000000   \n",
       "Embarked       891    1.536476    0.791503   0.00000    1.00000    2.000000   \n",
       "Title          891   40.641975   18.612814  28.00000   28.00000   28.000000   \n",
       "\n",
       "                    75%  max  \n",
       "PassengerId  668.500000  891  \n",
       "Survived       1.000000    1  \n",
       "Pclass         3.000000    3  \n",
       "Age            0.437500    1  \n",
       "Ticket       516.500000  556  \n",
       "Fare           0.060508    1  \n",
       "Cabin         -1.000000    7  \n",
       "Embarked       2.000000    2  \n",
       "Title         50.000000   80  "
      ]
     },
     "execution_count": 28,
     "metadata": {},
     "output_type": "execute_result"
    }
   ],
   "source": [
    "df.describe().T"
   ]
  },
  {
   "cell_type": "code",
   "execution_count": 26,
   "metadata": {
    "collapsed": false
   },
   "outputs": [
    {
     "name": "stdout",
     "output_type": "stream",
     "text": [
      "<class 'pandas.core.frame.DataFrame'>\n",
      "Int64Index: 891 entries, 0 to 890\n",
      "Data columns (total 11 columns):\n",
      "Survived      891 non-null int64\n",
      "Pclass        891 non-null int64\n",
      "Sex           891 non-null object\n",
      "Age           891 non-null float64\n",
      "Ticket        891 non-null int16\n",
      "Fare          891 non-null float64\n",
      "Cabin         891 non-null int8\n",
      "Embarked      891 non-null int8\n",
      "Title         891 non-null int64\n",
      "AgeSex        891 non-null object\n",
      "AgeSexFare    891 non-null object\n",
      "dtypes: float64(2), int16(1), int64(3), int8(2), object(3)\n",
      "memory usage: 66.1+ KB\n"
     ]
    }
   ],
   "source": [
    "df_train.info()"
   ]
  },
  {
   "cell_type": "code",
   "execution_count": 27,
   "metadata": {
    "collapsed": false
   },
   "outputs": [
    {
     "data": {
      "text/plain": [
       "<matplotlib.text.Text at 0x11a239510>"
      ]
     },
     "execution_count": 27,
     "metadata": {},
     "output_type": "execute_result"
    },
    {
     "data": {
      "image/png": "[encoded data removed]",
      "text/plain": [
       "<matplotlib.figure.Figure at 0x117b6df90>"
      ]
     },
     "metadata": {},
     "output_type": "display_data"
    }
   ],
   "source": [
    "plt.figure(figsize=(12,5))\n",
    "plt.subplot(1,2,1)\n",
    "train[train['Survived']==1][\"Age\"].hist(bins=20, label='survived')\n",
    "plt.title('Survived')\n",
    "plt.subplot(1,2,2)\n",
    "train[train['Survived']==0][\"Age\"].hist(bins=20)\n",
    "plt.title('Did not survive')"
   ]
  },
  {
   "cell_type": "code",
   "execution_count": 29,
   "metadata": {
    "collapsed": false
   },
   "outputs": [
    {
     "data": {
      "text/html": [
       "<div>\n",
       "<table border=\"1\" class=\"dataframe\">\n",
       "  <thead>\n",
       "    <tr style=\"text-align: right;\">\n",
       "      <th></th>\n",
       "      <th>PassengerId</th>\n",
       "      <th>Survived</th>\n",
       "      <th>Pclass</th>\n",
       "      <th>Sex</th>\n",
       "      <th>Age</th>\n",
       "      <th>Ticket</th>\n",
       "      <th>Fare</th>\n",
       "      <th>Cabin</th>\n",
       "      <th>Embarked</th>\n",
       "      <th>Title</th>\n",
       "      <th>AgeSex</th>\n",
       "      <th>AgeSexFare</th>\n",
       "    </tr>\n",
       "  </thead>\n",
       "  <tbody>\n",
       "    <tr>\n",
       "      <th>0</th>\n",
       "      <td>1</td>\n",
       "      <td>0</td>\n",
       "      <td>3</td>\n",
       "      <td>-10</td>\n",
       "      <td>0.2750</td>\n",
       "      <td>518</td>\n",
       "      <td>0.014151</td>\n",
       "      <td>-1</td>\n",
       "      <td>2</td>\n",
       "      <td>28</td>\n",
       "      <td>-2.75</td>\n",
       "      <td>-0.0389154</td>\n",
       "    </tr>\n",
       "    <tr>\n",
       "      <th>1</th>\n",
       "      <td>2</td>\n",
       "      <td>1</td>\n",
       "      <td>1</td>\n",
       "      <td>10</td>\n",
       "      <td>0.4750</td>\n",
       "      <td>532</td>\n",
       "      <td>0.139136</td>\n",
       "      <td>2</td>\n",
       "      <td>0</td>\n",
       "      <td>80</td>\n",
       "      <td>4.75</td>\n",
       "      <td>0.660895</td>\n",
       "    </tr>\n",
       "    <tr>\n",
       "      <th>2</th>\n",
       "      <td>3</td>\n",
       "      <td>1</td>\n",
       "      <td>3</td>\n",
       "      <td>10</td>\n",
       "      <td>0.3250</td>\n",
       "      <td>551</td>\n",
       "      <td>0.015469</td>\n",
       "      <td>-1</td>\n",
       "      <td>2</td>\n",
       "      <td>50</td>\n",
       "      <td>3.25</td>\n",
       "      <td>0.0502729</td>\n",
       "    </tr>\n",
       "    <tr>\n",
       "      <th>3</th>\n",
       "      <td>4</td>\n",
       "      <td>1</td>\n",
       "      <td>1</td>\n",
       "      <td>10</td>\n",
       "      <td>0.4375</td>\n",
       "      <td>49</td>\n",
       "      <td>0.103644</td>\n",
       "      <td>2</td>\n",
       "      <td>2</td>\n",
       "      <td>80</td>\n",
       "      <td>4.375</td>\n",
       "      <td>0.453444</td>\n",
       "    </tr>\n",
       "    <tr>\n",
       "      <th>4</th>\n",
       "      <td>5</td>\n",
       "      <td>0</td>\n",
       "      <td>3</td>\n",
       "      <td>-10</td>\n",
       "      <td>0.4375</td>\n",
       "      <td>472</td>\n",
       "      <td>0.015713</td>\n",
       "      <td>-1</td>\n",
       "      <td>2</td>\n",
       "      <td>28</td>\n",
       "      <td>-4.375</td>\n",
       "      <td>-0.0687424</td>\n",
       "    </tr>\n",
       "  </tbody>\n",
       "</table>\n",
       "</div>"
      ],
      "text/plain": [
       "   PassengerId  Survived  Pclass  Sex     Age  Ticket      Fare  Cabin  \\\n",
       "0            1         0       3  -10  0.2750     518  0.014151     -1   \n",
       "1            2         1       1   10  0.4750     532  0.139136      2   \n",
       "2            3         1       3   10  0.3250     551  0.015469     -1   \n",
       "3            4         1       1   10  0.4375      49  0.103644      2   \n",
       "4            5         0       3  -10  0.4375     472  0.015713     -1   \n",
       "\n",
       "   Embarked  Title AgeSex AgeSexFare  \n",
       "0         2     28  -2.75 -0.0389154  \n",
       "1         0     80   4.75   0.660895  \n",
       "2         2     50   3.25  0.0502729  \n",
       "3         2     80  4.375   0.453444  \n",
       "4         2     28 -4.375 -0.0687424  "
      ]
     },
     "execution_count": 29,
     "metadata": {},
     "output_type": "execute_result"
    }
   ],
   "source": [
    "df.head()"
   ]
  },
  {
   "cell_type": "markdown",
   "metadata": {},
   "source": [
    "## Random Forest"
   ]
  },
  {
   "cell_type": "code",
   "execution_count": 30,
   "metadata": {
    "collapsed": false
   },
   "outputs": [],
   "source": [
    "y = df_train.pop('Survived').values\n",
    "X = df_train.values\n",
    "X_test = df_test.values"
   ]
  },
  {
   "cell_type": "code",
   "execution_count": 31,
   "metadata": {
    "collapsed": false
   },
   "outputs": [
    {
     "data": {
      "text/plain": [
       "RandomForestClassifier(bootstrap=True, class_weight=None, criterion='gini',\n",
       "            max_depth=None, max_features='auto', max_leaf_nodes=None,\n",
       "            min_samples_leaf=1, min_samples_split=2,\n",
       "            min_weight_fraction_leaf=0.0, n_estimators=40, n_jobs=-1,\n",
       "            oob_score=False, random_state=None, verbose=0,\n",
       "            warm_start=False)"
      ]
     },
     "execution_count": 31,
     "metadata": {},
     "output_type": "execute_result"
    }
   ],
   "source": [
    "rf = RandomForestClassifier(40, n_jobs=-1)\n",
    "rf.fit(X,y)"
   ]
  },
  {
   "cell_type": "code",
   "execution_count": 32,
   "metadata": {
    "collapsed": false
   },
   "outputs": [
    {
     "data": {
      "text/plain": [
       "array([8, 9, 3, 4, 2, 1, 0, 7, 5, 6])"
      ]
     },
     "execution_count": 32,
     "metadata": {},
     "output_type": "execute_result"
    }
   ],
   "source": [
    "feat_rank = np.argsort(rf.feature_importances_)[::-1]\n",
    "feat_rank"
   ]
  },
  {
   "cell_type": "code",
   "execution_count": 33,
   "metadata": {
    "collapsed": false
   },
   "outputs": [
    {
     "data": {
      "text/plain": [
       "Index([u'AgeSex', u'AgeSexFare', u'Ticket', u'Fare', u'Age', u'Sex', u'Pclass',\n",
       "       u'Title', u'Cabin', u'Embarked'],\n",
       "      dtype='object')"
      ]
     },
     "execution_count": 33,
     "metadata": {},
     "output_type": "execute_result"
    }
   ],
   "source": [
    "df_train.columns[feat_rank]"
   ]
  },
  {
   "cell_type": "code",
   "execution_count": 34,
   "metadata": {
    "collapsed": false
   },
   "outputs": [],
   "source": [
    "df_features = pd.DataFrame(rf.feature_importances_,df_train.columns, columns = ['feature_value'])"
   ]
  },
  {
   "cell_type": "code",
   "execution_count": 35,
   "metadata": {
    "collapsed": false
   },
   "outputs": [
    {
     "data": {
      "text/html": [
       "<div>\n",
       "<table border=\"1\" class=\"dataframe\">\n",
       "  <thead>\n",
       "    <tr style=\"text-align: right;\">\n",
       "      <th></th>\n",
       "      <th>feature_value</th>\n",
       "    </tr>\n",
       "  </thead>\n",
       "  <tbody>\n",
       "    <tr>\n",
       "      <th>AgeSex</th>\n",
       "      <td>0.233618</td>\n",
       "    </tr>\n",
       "    <tr>\n",
       "      <th>AgeSexFare</th>\n",
       "      <td>0.173260</td>\n",
       "    </tr>\n",
       "    <tr>\n",
       "      <th>Ticket</th>\n",
       "      <td>0.148060</td>\n",
       "    </tr>\n",
       "    <tr>\n",
       "      <th>Fare</th>\n",
       "      <td>0.112366</td>\n",
       "    </tr>\n",
       "    <tr>\n",
       "      <th>Age</th>\n",
       "      <td>0.078279</td>\n",
       "    </tr>\n",
       "    <tr>\n",
       "      <th>Sex</th>\n",
       "      <td>0.073964</td>\n",
       "    </tr>\n",
       "    <tr>\n",
       "      <th>Pclass</th>\n",
       "      <td>0.066506</td>\n",
       "    </tr>\n",
       "    <tr>\n",
       "      <th>Title</th>\n",
       "      <td>0.055003</td>\n",
       "    </tr>\n",
       "    <tr>\n",
       "      <th>Cabin</th>\n",
       "      <td>0.038744</td>\n",
       "    </tr>\n",
       "    <tr>\n",
       "      <th>Embarked</th>\n",
       "      <td>0.020201</td>\n",
       "    </tr>\n",
       "  </tbody>\n",
       "</table>\n",
       "</div>"
      ],
      "text/plain": [
       "            feature_value\n",
       "AgeSex           0.233618\n",
       "AgeSexFare       0.173260\n",
       "Ticket           0.148060\n",
       "Fare             0.112366\n",
       "Age              0.078279\n",
       "Sex              0.073964\n",
       "Pclass           0.066506\n",
       "Title            0.055003\n",
       "Cabin            0.038744\n",
       "Embarked         0.020201"
      ]
     },
     "execution_count": 35,
     "metadata": {},
     "output_type": "execute_result"
    }
   ],
   "source": [
    "df_features.sort_values('feature_value', ascending=False)"
   ]
  },
  {
   "cell_type": "code",
   "execution_count": 36,
   "metadata": {
    "collapsed": false
   },
   "outputs": [
    {
     "data": {
      "text/plain": [
       "array([[  1.        ,   0.77216661],\n",
       "       [  2.        ,   0.76326495],\n",
       "       [  3.        ,   0.82048292],\n",
       "       [  4.        ,   0.82043241],\n",
       "       [  5.        ,   0.83058365],\n",
       "       [  6.        ,   0.8193335 ],\n",
       "       [  7.        ,   0.82837334],\n",
       "       [  8.        ,   0.83732522],\n",
       "       [  9.        ,   0.83955964],\n",
       "       [ 10.        ,   0.82499064]])"
      ]
     },
     "execution_count": 36,
     "metadata": {},
     "output_type": "execute_result"
    }
   ],
   "source": [
    "scores = np.zeros((feat_rank.shape[0],2))\n",
    "for i in range(1,feat_rank.shape[0]+1):\n",
    "    features = [df_train.columns[feat_rank][x] for x in range(i)]\n",
    "    scores[i-1:] = (i,(cross_val_score(rf, df[features], df['Survived'], cv=10)).mean())\n",
    "scores    "
   ]
  },
  {
   "cell_type": "code",
   "execution_count": 37,
   "metadata": {
    "collapsed": false
   },
   "outputs": [
    {
     "data": {
      "text/plain": [
       "[<matplotlib.lines.Line2D at 0x11adcc490>]"
      ]
     },
     "execution_count": 37,
     "metadata": {},
     "output_type": "execute_result"
    },
    {
     "data": {
      "image/png": "[encoded data removed]",
      "text/plain": [
       "<matplotlib.figure.Figure at 0x103fbbf10>"
      ]
     },
     "metadata": {},
     "output_type": "display_data"
    }
   ],
   "source": [
    "plt.plot(scores[:,:1],scores[:,1:2])"
   ]
  },
  {
   "cell_type": "code",
   "execution_count": 39,
   "metadata": {
    "collapsed": false
   },
   "outputs": [
    {
     "data": {
      "text/plain": [
       "0.83731273408239704"
      ]
     },
     "execution_count": 39,
     "metadata": {},
     "output_type": "execute_result"
    }
   ],
   "source": [
    "cross_val_score(rf, df[features], df['Survived'], cv=10).mean()"
   ]
  },
  {
   "cell_type": "code",
   "execution_count": 43,
   "metadata": {
    "collapsed": false
   },
   "outputs": [
    {
     "name": "stdout",
     "output_type": "stream",
     "text": [
      "Feature ranking:\n",
      "1. feature 8 (0.213818)\n",
      "2. feature 9 (0.190771)\n",
      "3. feature 3 (0.150035)\n",
      "4. feature 4 (0.117305)\n",
      "5. feature 2 (0.082685)\n",
      "6. feature 1 (0.077373)\n",
      "7. feature 0 (0.061037)\n",
      "8. feature 7 (0.048072)\n",
      "9. feature 5 (0.038854)\n",
      "10. feature 6 (0.020050)\n"
     ]
    },
    {
     "data": {
      "image/png": "[encoded data removed]",
      "text/plain": [
       "<matplotlib.figure.Figure at 0x117d1ae10>"
      ]
     },
     "metadata": {},
     "output_type": "display_data"
    }
   ],
   "source": [
    "importances = rf.feature_importances_\n",
    "std = np.std([tree.feature_importances_ for tree in rf.estimators_], axis=0)\n",
    "indices = np.argsort(importances)[::-1]\n",
    "\n",
    "# Print the feature ranking\n",
    "print(\"Feature ranking:\")\n",
    "\n",
    "for f in range(X.shape[1]):\n",
    "    print(\"%d. feature %d (%f)\" % (f + 1, indices[f], importances[indices[f]]))\n",
    "\n",
    "# Plot the feature importances of the forest\n",
    "plt.figure(figsize=(12,5))\n",
    "plt.title(\"Feature importances\")\n",
    "plt.bar(range(X.shape[1]), importances[indices],\n",
    "       color=\"r\", yerr=std[indices], align=\"center\")\n",
    "plt.xticks(range(X.shape[1]), df_train.columns[indices])\n",
    "plt.xlim([-1, X.shape[1]])\n",
    "plt.show()"
   ]
  },
  {
   "cell_type": "code",
   "execution_count": 38,
   "metadata": {
    "collapsed": false
   },
   "outputs": [
    {
     "data": {
      "text/plain": [
       "['AgeSex',\n",
       " 'AgeSexFare',\n",
       " 'Ticket',\n",
       " 'Fare',\n",
       " 'Age',\n",
       " 'Sex',\n",
       " 'Pclass',\n",
       " 'Title',\n",
       " 'Cabin']"
      ]
     },
     "execution_count": 38,
     "metadata": {},
     "output_type": "execute_result"
    }
   ],
   "source": [
    "features = [df_train.columns[feat_rank][x] for x in range(9)]\n",
    "features"
   ]
  },
  {
   "cell_type": "code",
   "execution_count": 51,
   "metadata": {
    "collapsed": false
   },
   "outputs": [],
   "source": [
    "# features = [df_train.columns[indices][x] for x in range(9)]\n",
    "# features"
   ]
  },
  {
   "cell_type": "code",
   "execution_count": 45,
   "metadata": {
    "collapsed": false
   },
   "outputs": [
    {
     "data": {
      "text/plain": [
       "array([[-2.75, -0.03891540829607214, 518, ..., 3, 28, -1],\n",
       "       [4.75, 0.6608947430675433, 532, ..., 1, 80, 2],\n",
       "       [3.25, 0.05027285190849946, 551, ..., 3, 50, -1],\n",
       "       ..., \n",
       "       [3.5, 0.160199730954238, 553, ..., 3, 50, -1],\n",
       "       [-3.25, -0.190307325836591, 8, ..., 1, 28, 2],\n",
       "       [-4.0, -0.060507970265993034, 466, ..., 3, 28, -1]], dtype=object)"
      ]
     },
     "execution_count": 45,
     "metadata": {},
     "output_type": "execute_result"
    }
   ],
   "source": [
    "X = df_train[features].values\n",
    "X"
   ]
  },
  {
   "cell_type": "code",
   "execution_count": 46,
   "metadata": {
    "collapsed": true
   },
   "outputs": [],
   "source": [
    "def create_submission(model, train, test, features, filename):\n",
    "\n",
    "#     model.fit(train[features], train['Survived'])\n",
    "    predictions = model.predict(test[features])\n",
    "\n",
    "    submission = pd.DataFrame({\n",
    "        \"PassengerId\": test[\"PassengerId\"],\n",
    "        \"Survived\": predictions\n",
    "    })\n",
    "    \n",
    "    submission.to_csv(filename, index=False)"
   ]
  },
  {
   "cell_type": "code",
   "execution_count": 47,
   "metadata": {
    "collapsed": false,
    "scrolled": true
   },
   "outputs": [
    {
     "name": "stdout",
     "output_type": "stream",
     "text": [
      "RandomizedSearchCV took 4.30 seconds for 20 candidates parameter settings.\n",
      "Model with rank: 1\n",
      "Mean validation score: 0.831 (std: 0.008)\n",
      "Parameters: {'bootstrap': True, 'min_samples_leaf': 7, 'n_estimators': 50, 'min_samples_split': 8, 'criterion': 'gini', 'max_features': 3, 'max_depth': None}\n",
      "\n",
      "Model with rank: 2\n",
      "Mean validation score: 0.829 (std: 0.004)\n",
      "Parameters: {'bootstrap': True, 'min_samples_leaf': 10, 'n_estimators': 60, 'min_samples_split': 1, 'criterion': 'gini', 'max_features': 5, 'max_depth': None}\n",
      "\n",
      "Model with rank: 3\n",
      "Mean validation score: 0.824 (std: 0.025)\n",
      "Parameters: {'bootstrap': False, 'min_samples_leaf': 10, 'n_estimators': 60, 'min_samples_split': 9, 'criterion': 'entropy', 'max_features': 4, 'max_depth': None}\n",
      "\n"
     ]
    }
   ],
   "source": [
    "from time import time\n",
    "from operator import itemgetter\n",
    "from scipy.stats import randint as sp_randint\n",
    "\n",
    "from sklearn.grid_search import GridSearchCV, RandomizedSearchCV\n",
    "from sklearn.datasets import load_digits\n",
    "from sklearn.ensemble import RandomForestClassifier\n",
    "\n",
    "# build a classifier\n",
    "clf = RandomForestClassifier()\n",
    "\n",
    "\n",
    "# Utility function to report best scores\n",
    "def report(grid_scores, n_top=3):\n",
    "    top_scores = sorted(grid_scores, key=itemgetter(1), reverse=True)[:n_top]\n",
    "    for i, score in enumerate(top_scores):\n",
    "        print(\"Model with rank: {0}\".format(i + 1))\n",
    "        print(\"Mean validation score: {0:.3f} (std: {1:.3f})\".format(\n",
    "              score.mean_validation_score,\n",
    "              np.std(score.cv_validation_scores)))\n",
    "        print(\"Parameters: {0}\".format(score.parameters))\n",
    "        print(\"\")\n",
    "\n",
    "\n",
    "# specify parameters and distributions to sample from\n",
    "param_dist = {\"max_depth\": [3, None],\n",
    "              \"max_features\": sp_randint(1, 6),\n",
    "              \"min_samples_split\": sp_randint(1, 11),\n",
    "              \"min_samples_leaf\": sp_randint(1, 11),\n",
    "              \"bootstrap\": [True, False],\n",
    "              'n_estimators': [10, 40, 50, 60],\n",
    "              \"criterion\": [\"gini\", \"entropy\"]}\n",
    "\n",
    "# run randomized search\n",
    "n_iter_search = 20\n",
    "random_search = RandomizedSearchCV(clf, param_distributions=param_dist,\n",
    "                                   n_iter=n_iter_search, n_jobs=-1)\n",
    "\n",
    "start = time()\n",
    "random_search.fit(X, y)\n",
    "print(\"RandomizedSearchCV took %.2f seconds for %d candidates\"\n",
    "      \" parameter settings.\" % ((time() - start), n_iter_search))\n",
    "report(random_search.grid_scores_)\n",
    "\n"
   ]
  },
  {
   "cell_type": "code",
   "execution_count": 50,
   "metadata": {
    "collapsed": false
   },
   "outputs": [
    {
     "name": "stdout",
     "output_type": "stream",
     "text": [
      "GridSearchCV took 2313.00 seconds for 4800 candidate parameter settings.\n",
      "Model with rank: 1\n",
      "Mean validation score: 0.846 (std: 0.022)\n",
      "Parameters: {'bootstrap': True, 'min_samples_leaf': 2, 'n_estimators': 100, 'min_samples_split': 1, 'criterion': 'gini', 'max_features': None, 'max_depth': None}\n",
      "\n",
      "Model with rank: 2\n",
      "Mean validation score: 0.846 (std: 0.022)\n",
      "Parameters: {'bootstrap': True, 'min_samples_leaf': 2, 'n_estimators': 40, 'min_samples_split': 10, 'criterion': 'gini', 'max_features': None, 'max_depth': None}\n",
      "\n",
      "Model with rank: 3\n",
      "Mean validation score: 0.846 (std: 0.016)\n",
      "Parameters: {'bootstrap': True, 'min_samples_leaf': 4, 'n_estimators': 40, 'min_samples_split': 6, 'criterion': 'gini', 'max_features': None, 'max_depth': None}\n",
      "\n"
     ]
    }
   ],
   "source": [
    "# use a full grid over all parameters\n",
    "param_grid = {'max_depth': [1, 2, 4, None],\n",
    "              'max_features': ['sqrt', 'log2', None],\n",
    "              'min_samples_split': [1, 2, 6, 8, 10],\n",
    "              'min_samples_leaf': [1, 2, 4, 6],\n",
    "              'bootstrap': [True, False],\n",
    "              'n_estimators': [30, 40, 50, 60, 100],\n",
    "              \"criterion\": [\"gini\", \"entropy\"]}\n",
    "\n",
    "# run grid search\n",
    "grid_search = GridSearchCV(clf, param_grid=param_grid, n_jobs=-1)\n",
    "start = time()\n",
    "grid_search.fit(X, y)\n",
    "\n",
    "print(\"GridSearchCV took %.2f seconds for %d candidate parameter settings.\"\n",
    "      % (time() - start, len(grid_search.grid_scores_)))\n",
    "report(grid_search.grid_scores_)"
   ]
  },
  {
   "cell_type": "code",
   "execution_count": 49,
   "metadata": {
    "collapsed": false
   },
   "outputs": [
    {
     "data": {
      "text/plain": [
       "RandomForestClassifier(bootstrap=True, class_weight=None, criterion='gini',\n",
       "            max_depth=None, max_features=None, max_leaf_nodes=None,\n",
       "            min_samples_leaf=2, min_samples_split=6,\n",
       "            min_weight_fraction_leaf=0.0, n_estimators=50, n_jobs=1,\n",
       "            oob_score=False, random_state=None, verbose=0,\n",
       "            warm_start=False)"
      ]
     },
     "execution_count": 49,
     "metadata": {},
     "output_type": "execute_result"
    }
   ],
   "source": [
    "grid_search.best_estimator_"
   ]
  },
  {
   "cell_type": "code",
   "execution_count": 52,
   "metadata": {
    "collapsed": false
   },
   "outputs": [],
   "source": [
    "create_submission(grid_search.best_estimator_,\n",
    "                        df, df_test, features, \"../submissions/rf_submission.csv\")"
   ]
  },
  {
   "cell_type": "markdown",
   "metadata": {},
   "source": [
    "## Random Forest Results"
   ]
  },
  {
   "cell_type": "markdown",
   "metadata": {},
   "source": [
    "```\n",
    "0.79426\n",
    "['AgeSex', 'AgeSexFare', 'Fare', 'Sex', 'Pclass', 'Age']\n",
    "create_submission(RandomForestClassifier(\n",
    "                        bootstrap= True, \n",
    "                        min_samples_leaf= 3, \n",
    "                        n_estimators= 20, \n",
    "                        min_samples_split= 9, \n",
    "                        criterion= 'entropy', \n",
    "                        max_features= 4, \n",
    "                        max_depth= None)\n",
    "\n",
    "0.78469\n",
    "['AgeSex', 'AgeSexFare', 'Fare', 'Age', 'Pclass', 'Sex']\n",
    "create_submission(RandomForestClassifier(50, min_samples_split=4, min_samples_leaf=2), \\\n",
    "                  df, df_test, predictors, \"submission.csv\")\n",
    "0.76555\n",
    "['AgeSex', 'AgeSexFare', 'Fare', 'Age']\n",
    "create_submission(RandomForestClassifier(50, min_samples_split=4, min_samples_leaf=2), \\\n",
    "                  df, df_test, features, \"submission.csv\")\n",
    "```"
   ]
  },
  {
   "cell_type": "code",
   "execution_count": null,
   "metadata": {
    "collapsed": false
   },
   "outputs": [],
   "source": [
    "trees_accuracy = []\n",
    "for i in xrange(1,X.shape[1]):\n",
    "    rf = RandomForestClassifier(50, max_features = i, min_samples_split=4, min_samples_leaf=2)\n",
    "    rf.fit(X, y)\n",
    "    trees_accuracy.append(rf.score(X,y))"
   ]
  },
  {
   "cell_type": "code",
   "execution_count": null,
   "metadata": {
    "collapsed": false
   },
   "outputs": [],
   "source": [
    "plt.plot(range(1, X.shape[1]), trees_accuracy, '-o')"
   ]
  },
  {
   "cell_type": "markdown",
   "metadata": {
    "collapsed": true
   },
   "source": [
    "## SVM"
   ]
  },
  {
   "cell_type": "code",
   "execution_count": null,
   "metadata": {
    "collapsed": false
   },
   "outputs": [],
   "source": [
    "pipeline = Pipeline([('scaler', StandardScaler()), \n",
    "                     ('svc', SVC(kernel='linear'))])\n",
    "pipeline.fit(X, y)"
   ]
  },
  {
   "cell_type": "code",
   "execution_count": null,
   "metadata": {
    "collapsed": false
   },
   "outputs": [],
   "source": [
    "parameters = {'kernel':['linear','rbf'], \n",
    "              'C':np.linspace(.001,10,5),'degree':np.linspace(0,10,5)}\n",
    "\n",
    "gsCV = GridSearchCV(estimator=pipeline.steps[1][1],\n",
    "                    param_grid=parameters,scoring='accuracy', cv=5)"
   ]
  },
  {
   "cell_type": "code",
   "execution_count": null,
   "metadata": {
    "collapsed": false
   },
   "outputs": [],
   "source": [
    "X = pipeline.steps[0][1].fit_transform(X)"
   ]
  },
  {
   "cell_type": "code",
   "execution_count": null,
   "metadata": {
    "collapsed": false
   },
   "outputs": [],
   "source": [
    "gsCV.fit(X,y)"
   ]
  },
  {
   "cell_type": "code",
   "execution_count": null,
   "metadata": {
    "collapsed": false
   },
   "outputs": [],
   "source": [
    "gsCV.grid_scores_, gsCV.best_params_"
   ]
  },
  {
   "cell_type": "markdown",
   "metadata": {},
   "source": [
    "mean: 0.78151, std: 0.03323, params: {'C': 25.00075, 'degree': 0.0}"
   ]
  },
  {
   "cell_type": "code",
   "execution_count": null,
   "metadata": {
    "collapsed": true
   },
   "outputs": [],
   "source": [
    "def svm_submission(model, train, test, features, filename):\n",
    "\n",
    "    model.fit(train[features], train['Survived'])\n",
    "    predictions = model.predict(test[features])\n",
    "\n",
    "    submission = pd.DataFrame({\n",
    "        \"PassengerId\": test[\"PassengerId\"],\n",
    "        \"Survived\": predictions\n",
    "    })\n",
    "    \n",
    "    submission.to_csv(filename, index=False)"
   ]
  },
  {
   "cell_type": "code",
   "execution_count": null,
   "metadata": {
    "collapsed": false
   },
   "outputs": [],
   "source": [
    "svm_features = [df_train.columns[feat_rank][x] for x in range(8)]\n",
    "svm_features"
   ]
  },
  {
   "cell_type": "code",
   "execution_count": null,
   "metadata": {
    "collapsed": false
   },
   "outputs": [],
   "source": [
    "create_submission(Pipeline([('scaler', StandardScaler()),\n",
    "                    ('svc', SVC(kernel='rbf', C=2.5, degree=2.5))]), \\\n",
    "                  df, df_test, svm_features, \"../submissions/svm_submission.csv\")"
   ]
  },
  {
   "cell_type": "markdown",
   "metadata": {
    "collapsed": true
   },
   "source": [
    "## Gradient Boosting"
   ]
  },
  {
   "cell_type": "code",
   "execution_count": null,
   "metadata": {
    "collapsed": false
   },
   "outputs": [],
   "source": [
    "X = df_train\n",
    "X.head()"
   ]
  },
  {
   "cell_type": "code",
   "execution_count": null,
   "metadata": {
    "collapsed": false
   },
   "outputs": [],
   "source": [
    "gdb = GradientBoostingClassifier(\n",
    "                n_estimators=3000,\n",
    "                learning_rate = 0.01, \n",
    "                max_depth = 4,\n",
    "                max_features = 0.1,\n",
    "                min_samples_leaf = 17)\n",
    "gdb.fit(X,y)"
   ]
  },
  {
   "cell_type": "code",
   "execution_count": null,
   "metadata": {
    "collapsed": false
   },
   "outputs": [],
   "source": [
    "feat_rank = np.argsort(gdb.feature_importances_)[::-1]\n",
    "feat_rank\n",
    "df_train.columns[feat_rank]"
   ]
  },
  {
   "cell_type": "code",
   "execution_count": null,
   "metadata": {
    "collapsed": false
   },
   "outputs": [],
   "source": [
    "boost_features = [df_train.columns[feat_rank][x] for x in range(8)]\n",
    "boost_features"
   ]
  },
  {
   "cell_type": "code",
   "execution_count": null,
   "metadata": {
    "collapsed": false
   },
   "outputs": [],
   "source": [
    "df_train[boost_features].head()"
   ]
  },
  {
   "cell_type": "code",
   "execution_count": null,
   "metadata": {
    "collapsed": false
   },
   "outputs": [],
   "source": [
    "X = df_train[boost_features]\n",
    "X.head()"
   ]
  },
  {
   "cell_type": "code",
   "execution_count": null,
   "metadata": {
    "collapsed": false
   },
   "outputs": [],
   "source": [
    "param_grid = {'learning_rate': [0.1, 0.05, 0.02, 0.01],\n",
    "              'max_depth': [4, 6],\n",
    "              'min_samples_leaf': [3, 5, 9, 17],\n",
    "              'max_features': [1.0, 0.3, 0.1]}\n",
    "gdb_grid = GradientBoostingClassifier(n_estimators=6000)\n",
    "gs_cv = GridSearchCV(gdb_grid, param_grid).fit(X,y)\n",
    "\n",
    "gs_cv.best_params_"
   ]
  },
  {
   "cell_type": "code",
   "execution_count": null,
   "metadata": {
    "collapsed": true
   },
   "outputs": [],
   "source": [
    "gs_cv.grid_scores_"
   ]
  },
  {
   "cell_type": "markdown",
   "metadata": {},
   "source": [
    "```\n",
    "BEST PARAMS\n",
    "{'learning_rate': 0.01,\n",
    " 'max_depth': 4,\n",
    " 'max_features': 0.1,\n",
    " 'min_samples_leaf': 17}\n",
    " ```"
   ]
  },
  {
   "cell_type": "code",
   "execution_count": null,
   "metadata": {
    "collapsed": false
   },
   "outputs": [],
   "source": [
    "create_submission(GradientBoostingClassifier(\n",
    "                n_estimators=3000,\n",
    "                learning_rate = 0.01, \n",
    "                max_depth = 4,\n",
    "                max_features = 0.1,\n",
    "                min_samples_leaf = 9),\n",
    "                df, df_test, boost_features, \"../submissions/gdboost_submission.csv\")"
   ]
  },
  {
   "cell_type": "markdown",
   "metadata": {},
   "source": [
    "## Adaptive Boosting"
   ]
  },
  {
   "cell_type": "code",
   "execution_count": null,
   "metadata": {
    "collapsed": false
   },
   "outputs": [],
   "source": [
    "X = df_train\n",
    "X.head()"
   ]
  },
  {
   "cell_type": "code",
   "execution_count": null,
   "metadata": {
    "collapsed": false
   },
   "outputs": [],
   "source": [
    "ada = AdaBoostClassifier(\n",
    "                n_estimators=3000,\n",
    "                learning_rate = 0.01)\n",
    "ada.fit(X,y)"
   ]
  },
  {
   "cell_type": "code",
   "execution_count": null,
   "metadata": {
    "collapsed": false
   },
   "outputs": [],
   "source": [
    "feat_rank = np.argsort(ada.feature_importances_)[::-1]\n",
    "ada_features = [df_train.columns[feat_rank][x] for x in range(6)]\n",
    "ada_features"
   ]
  },
  {
   "cell_type": "code",
   "execution_count": null,
   "metadata": {
    "collapsed": false
   },
   "outputs": [],
   "source": [
    "X = df_train[ada_features]\n",
    "X.head()"
   ]
  },
  {
   "cell_type": "code",
   "execution_count": null,
   "metadata": {
    "collapsed": false
   },
   "outputs": [],
   "source": [
    "param_grid = {'learning_rate': [1, 0.1, 0.05, 0.02, 0.01]}\n",
    "\n",
    "ada_grid = AdaBoostClassifier(n_estimators=6000)\n",
    "ada_cv = GridSearchCV(ada_grid, param_grid).fit(X,y)\n",
    "\n",
    "ada_cv.best_params_"
   ]
  },
  {
   "cell_type": "code",
   "execution_count": null,
   "metadata": {
    "collapsed": true
   },
   "outputs": [],
   "source": [
    "create_submission(AdaBoostClassifier(\n",
    "                n_estimators=3000,\n",
    "                learning_rate = 0.01),\n",
    "                df, df_test, ada_features, \"../submissions/adaboost_submission.csv\")"
   ]
  },
  {
   "cell_type": "code",
   "execution_count": null,
   "metadata": {
    "collapsed": true
   },
   "outputs": [],
   "source": []
  }
 ],
 "metadata": {
  "kernelspec": {
   "display_name": "Python 2",
   "language": "python",
   "name": "python2"
  },
  "language_info": {
   "codemirror_mode": {
    "name": "ipython",
    "version": 2
   },
   "file_extension": ".py",
   "mimetype": "text/x-python",
   "name": "python",
   "nbconvert_exporter": "python",
   "pygments_lexer": "ipython2",
   "version": "2.7.11"
  }
 },
 "nbformat": 4,
 "nbformat_minor": 0
}
